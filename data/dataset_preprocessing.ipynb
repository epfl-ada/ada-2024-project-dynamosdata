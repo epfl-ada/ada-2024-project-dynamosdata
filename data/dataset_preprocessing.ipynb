{
 "cells": [
  {
   "cell_type": "code",
   "execution_count": 1,
   "metadata": {},
   "outputs": [],
   "source": [
    "import matplotlib.pyplot as plt\n",
    "import seaborn as sns\n",
    "import pandas as pd\n",
    "import numpy as np\n",
    "import itertools\n",
    "import pickle\n",
    "import random\n",
    "import gzip\n",
    "import json\n",
    "import zstd\n",
    "import polars as pl\n",
    "import time"
   ]
  },
  {
   "cell_type": "markdown",
   "metadata": {},
   "source": [
    "**NOTE:**\n",
    "- For out initial analysis to detect bots, we chose data from year 2018 since it had the highest number of comments (covering 20% of total data).\n",
    "- Most of the users in the provided comments dataset have only a single comments (as shown in the plots below). So, we had to filter out active users.\n",
    "- We considered users with at least a total of 100 comments to have sufficient data to distinguish between regular active users and bots.\n",
    "- We choose 100 as the threshold since mean of total comments per user is 19 with S.D of 140. Meanwhile, bots usually comment in thousands and more. So, to consider active users we set a threshold of comments count going above around half a S.D over mean (100). This gives us a good conservative threshold to proceed making our data analysis easy since comments data is huge containing mostly single comment user entries."
   ]
  },
  {
   "cell_type": "code",
   "execution_count": 2,
   "metadata": {},
   "outputs": [
    {
     "name": "stdout",
     "output_type": "stream",
     "text": [
      "CPU times: user 26.7 s, sys: 18.2 s, total: 44.9 s\n",
      "Wall time: 38.4 s\n"
     ]
    },
    {
     "data": {
      "text/html": [
       "<div><style>\n",
       ".dataframe > thead > tr,\n",
       ".dataframe > tbody > tr {\n",
       "  text-align: right;\n",
       "  white-space: pre-wrap;\n",
       "}\n",
       "</style>\n",
       "<small>shape: (5, 2)</small><table border=\"1\" class=\"dataframe\"><thead><tr><th>video_id</th><th>upload_date</th></tr><tr><td>str</td><td>date</td></tr></thead><tbody><tr><td>&quot;SBqSc91Hn9g&quot;</td><td>2016-09-28</td></tr><tr><td>&quot;UuugEl86ESY&quot;</td><td>2016-09-28</td></tr><tr><td>&quot;oB4c-yvnbjs&quot;</td><td>2016-09-28</td></tr><tr><td>&quot;ZaV-gTCMV8E&quot;</td><td>2016-09-28</td></tr><tr><td>&quot;cGvL7AvMfM0&quot;</td><td>2016-09-28</td></tr></tbody></table></div>"
      ],
      "text/plain": [
       "shape: (5, 2)\n",
       "┌─────────────┬─────────────┐\n",
       "│ video_id    ┆ upload_date │\n",
       "│ ---         ┆ ---         │\n",
       "│ str         ┆ date        │\n",
       "╞═════════════╪═════════════╡\n",
       "│ SBqSc91Hn9g ┆ 2016-09-28  │\n",
       "│ UuugEl86ESY ┆ 2016-09-28  │\n",
       "│ oB4c-yvnbjs ┆ 2016-09-28  │\n",
       "│ ZaV-gTCMV8E ┆ 2016-09-28  │\n",
       "│ cGvL7AvMfM0 ┆ 2016-09-28  │\n",
       "└─────────────┴─────────────┘"
      ]
     },
     "execution_count": 2,
     "metadata": {},
     "output_type": "execute_result"
    }
   ],
   "source": [
    "%%time\n",
    "# Load youtube videos metadata dataset (to get 'upload_date')\n",
    "df_metadata_feather = pd.read_feather(\"./data/yt_metadata_helper.feather\")\n",
    "df_metadata_feather = df_metadata_feather[['display_id', 'upload_date']]\n",
    "df_metadata_feather.rename(columns={\"display_id\":\"video_id\"}, inplace=True)\n",
    "\n",
    "# Convert df_metadata_feather to a Polars DataFrame\n",
    "df_metadata_polars = pl.from_pandas(df_metadata_feather).with_columns(\n",
    "    pl.col(\"upload_date\").dt.date().alias(\"upload_date\")  # Keep only the date part (removes 00:00:00)\n",
    ")\n",
    "\n",
    "del df_metadata_feather # remove Pandas df from memory since not used\n",
    "\n",
    "df_metadata_polars.head()"
   ]
  },
  {
   "cell_type": "code",
   "execution_count": 3,
   "metadata": {},
   "outputs": [
    {
     "name": "stdout",
     "output_type": "stream",
     "text": [
      "before:\t448810483\n",
      "after:\t15386449\n",
      "change:\t29.2 times\n",
      "CPU times: user 45.2 s, sys: 4.78 s, total: 49.9 s\n",
      "Wall time: 50.1 s\n"
     ]
    }
   ],
   "source": [
    "%%time\n",
    "# Create filtered authors df\n",
    "threshold_comments = 100\n",
    "num_comments_authors_orignial = pd.read_csv(\"./data/num_comments_authors.tsv.gz\", compression=\"infer\", sep=\"\\t\")\n",
    "authors_bot_df = num_comments_authors_orignial[num_comments_authors_orignial[\"video_id\"]>threshold_comments]\n",
    "authors_bot_df_polars = pl.from_pandas(authors_bot_df[[\"author\"]])\n",
    "\n",
    "del authors_bot_df # remove Pandas df from memory since not used\n",
    "\n",
    "before_size = num_comments_authors_orignial.shape[0]\n",
    "after_size = authors_bot_df_polars.shape[0]\n",
    "print(f\"before:\\t{before_size}\\nafter:\\t{after_size}\\nchange:\\t{before_size/after_size:.1f} times\")"
   ]
  },
  {
   "cell_type": "code",
   "execution_count": 4,
   "metadata": {},
   "outputs": [],
   "source": [
    "# Metadata for videos from year 2018 \n",
    "df_metadata_polars_2018 = df_metadata_polars.filter(\n",
    "    pl.col(\"upload_date\").dt.year() == 2018\n",
    ").with_columns(\n",
    "    pl.col(\"upload_date\").dt.date().alias(\"upload_date\")  # Keep only the date part\n",
    ")"
   ]
  },
  {
   "cell_type": "code",
   "execution_count": null,
   "metadata": {},
   "outputs": [],
   "source": []
  },
  {
   "cell_type": "code",
   "execution_count": null,
   "metadata": {},
   "outputs": [],
   "source": [
    "%%time\n",
    "# Create dataset\n",
    "\n",
    "import os\n",
    "import time\n",
    "\n",
    "i = 0\n",
    "chunksize = 100_000_000\n",
    "processed_rows= 0\n",
    "start_time = time.time()  # Record the start time\n",
    "file_path = \"author_comments_per_video_2018.parquet\"\n",
    "\n",
    "file_exists = os.path.exists(file_path) \n",
    "print(f\"'{file_path}' exists? {file_exists}\")\n",
    "\n",
    "'''\n",
    "NOTE: total_rows in youtube_comments.tsv.gz = 8_610_000_000\n",
    "'''\n",
    "\n",
    "for df in  pd.read_csv(\"./data/youtube_comments.tsv.gz\", compression=\"infer\", sep=\"\\t\", chunksize=chunksize): # chunksize = # of rows\n",
    "    print(\"\\nprocessing df chunk...\")\n",
    "    try:\n",
    "        q = (\n",
    "            pl.from_pandas(df)\n",
    "            .lazy()  # Convert to lazy frame\n",
    "            .group_by(['author', 'video_id'])\n",
    "            .agg(\n",
    "                comments=pl.col('video_id').count(),  # Count of video_id for each group\n",
    "                likes=pl.col('likes').sum(),         # Sum of likes for each group\n",
    "                replies=pl.col('replies').sum()      # Sum of replies for each group\n",
    "            )\n",
    "        )\n",
    "    except Exception as e:\n",
    "        print(f\"Error encountered: {e}\")\n",
    "        print(\"Attempting to coerce non-numeric values and retry...\")\n",
    "        \n",
    "        # Convert specific columns to numeric, coercing errors to NaN\n",
    "        df['replies'] = pd.to_numeric(df['replies'], errors='coerce', downcast=\"integer\").dropna().astype('int64')\n",
    "        df['likes'] = pd.to_numeric(df['likes'], errors='coerce', downcast=\"integer\").dropna().astype('int64')\n",
    "\n",
    "        # Retry loading into Polars\n",
    "        q = (\n",
    "            pl.from_pandas(df)\n",
    "            .lazy()\n",
    "            .group_by(['author', 'video_id'])\n",
    "            .agg(\n",
    "                comments=pl.col('video_id').count(),\n",
    "                likes=pl.col('likes').sum(),\n",
    "                replies=pl.col('replies').sum()\n",
    "            )\n",
    "        )\n",
    "    \n",
    "    df_polars = q.collect()\n",
    "        \n",
    "    # consider only 2018 data\n",
    "    df_polars = df_polars.join(df_metadata_polars_2018, on=\"video_id\", how=\"inner\")\n",
    "    \n",
    "    # filter authors\n",
    "    df_polars = df_polars.join(authors_bot_df_polars, on=\"author\", how=\"inner\")\n",
    "    df_polars = df_polars.sort(by='author')\n",
    "    df_polars = df_polars[[\"author\", \"video_id\", \"upload_date\",\"comments\",\"likes\",\"replies\"]]\n",
    "\n",
    "\n",
    "    df_polars = df_polars.with_columns([\n",
    "        pl.col(\"replies\").cast(pl.Int64)\n",
    "    ])\n",
    "    df_polars = df_polars.with_columns([\n",
    "        pl.col(\"likes\").cast(pl.Int64)\n",
    "    ])\n",
    "\n",
    "    # Write the first chunk or append the next chunks\n",
    "    if not file_exists:\n",
    "        # Write the first chunk with header\n",
    "        df_polars.write_parquet(file_path, compression='zstd')\n",
    "        print(f\"'{file_path}' saved.\")\n",
    "        file_exists = True\n",
    "    else:\n",
    "        # For subsequent chunks, load the existing Feather file, & overwrite it with updated data (append don't work with feather)\n",
    "        print(f\"reading '{file_path}'...\")\n",
    "        df_existing = pl.read_parquet(file_path, low_memory=True)\n",
    "        df_combined = pl.concat([df_existing, df_polars])\n",
    "        df_combined.write_parquet(file_path, compression='zstd')\n",
    "        print(f\"saved '{file_path}'. \")\n",
    "\n",
    "    \n",
    "    # Track the number of processed rows\n",
    "    processed_rows += chunksize\n",
    "\n",
    "    # Display progress\n",
    "    print(f\"iteration:{i+1}, processed_rows: {processed_rows:_}\")\n",
    "    i += 1\n",
    "\n",
    "    current_time = time.time()     # Record the end time\n",
    "    elapsed_time = current_time - start_time\n",
    "    elapsed_hours = int(elapsed_time // 3600)\n",
    "    elapsed_minutes = int((elapsed_time % 3600) // 60)\n",
    "    elapsed_seconds = int(elapsed_time % 60)\n",
    "    print(f\"Elapsed time: {elapsed_hours:02}:{elapsed_minutes:02}:{elapsed_seconds:02}\\n\")\n"
   ]
  },
  {
   "cell_type": "code",
   "execution_count": null,
   "metadata": {},
   "outputs": [],
   "source": []
  },
  {
   "cell_type": "markdown",
   "metadata": {},
   "source": [
    "# Read Dataset (Parquet)"
   ]
  },
  {
   "cell_type": "code",
   "execution_count": 2,
   "metadata": {},
   "outputs": [
    {
     "name": "stdout",
     "output_type": "stream",
     "text": [
      "CPU times: user 3min 39s, sys: 1min 44s, total: 5min 24s\n",
      "Wall time: 5min 5s\n"
     ]
    }
   ],
   "source": [
    "%%time\n",
    "# Read dataset parquet using pandas\n",
    "dataset_df = pd.read_parquet(\"author_comments_per_video_2018.parquet\")\n"
   ]
  },
  {
   "cell_type": "markdown",
   "metadata": {},
   "source": [
    "#### OR"
   ]
  },
  {
   "cell_type": "code",
   "execution_count": 2,
   "metadata": {},
   "outputs": [
    {
     "name": "stdout",
     "output_type": "stream",
     "text": [
      "CPU times: user 1min 20s, sys: 1min 39s, total: 3min\n",
      "Wall time: 15.4 s\n"
     ]
    }
   ],
   "source": [
    "%%time\n",
    "# Read dataset parquet using polars (much faster!)\n",
    "dataset_df = pl.read_parquet(\"author_comments_per_video_2018.parquet\", low_memory=True)\n"
   ]
  },
  {
   "cell_type": "code",
   "execution_count": 3,
   "metadata": {},
   "outputs": [
    {
     "data": {
      "text/html": [
       "<div><style>\n",
       ".dataframe > thead > tr,\n",
       ".dataframe > tbody > tr {\n",
       "  text-align: right;\n",
       "  white-space: pre-wrap;\n",
       "}\n",
       "</style>\n",
       "<small>shape: (5, 6)</small><table border=\"1\" class=\"dataframe\"><thead><tr><th>author</th><th>video_id</th><th>upload_date</th><th>comments</th><th>likes</th><th>replies</th></tr><tr><td>i64</td><td>str</td><td>date</td><td>u32</td><td>i64</td><td>i64</td></tr></thead><tbody><tr><td>16</td><td>&quot;s9sgU7fWlV4&quot;</td><td>2018-11-17</td><td>1</td><td>0</td><td>0</td></tr><tr><td>16</td><td>&quot;ujdUh7ZfkUY&quot;</td><td>2018-07-08</td><td>1</td><td>6</td><td>0</td></tr><tr><td>16</td><td>&quot;OaLFcwHzPaA&quot;</td><td>2018-12-27</td><td>1</td><td>1</td><td>0</td></tr><tr><td>16</td><td>&quot;aQoD6KfXZqg&quot;</td><td>2018-03-21</td><td>1</td><td>0</td><td>0</td></tr><tr><td>16</td><td>&quot;Croosu_XdF4&quot;</td><td>2018-07-14</td><td>1</td><td>0</td><td>0</td></tr></tbody></table></div>"
      ],
      "text/plain": [
       "shape: (5, 6)\n",
       "┌────────┬─────────────┬─────────────┬──────────┬───────┬─────────┐\n",
       "│ author ┆ video_id    ┆ upload_date ┆ comments ┆ likes ┆ replies │\n",
       "│ ---    ┆ ---         ┆ ---         ┆ ---      ┆ ---   ┆ ---     │\n",
       "│ i64    ┆ str         ┆ date        ┆ u32      ┆ i64   ┆ i64     │\n",
       "╞════════╪═════════════╪═════════════╪══════════╪═══════╪═════════╡\n",
       "│ 16     ┆ s9sgU7fWlV4 ┆ 2018-11-17  ┆ 1        ┆ 0     ┆ 0       │\n",
       "│ 16     ┆ ujdUh7ZfkUY ┆ 2018-07-08  ┆ 1        ┆ 6     ┆ 0       │\n",
       "│ 16     ┆ OaLFcwHzPaA ┆ 2018-12-27  ┆ 1        ┆ 1     ┆ 0       │\n",
       "│ 16     ┆ aQoD6KfXZqg ┆ 2018-03-21  ┆ 1        ┆ 0     ┆ 0       │\n",
       "│ 16     ┆ Croosu_XdF4 ┆ 2018-07-14  ┆ 1        ┆ 0     ┆ 0       │\n",
       "└────────┴─────────────┴─────────────┴──────────┴───────┴─────────┘"
      ]
     },
     "execution_count": 3,
     "metadata": {},
     "output_type": "execute_result"
    }
   ],
   "source": [
    "dataset_df.head()"
   ]
  },
  {
   "cell_type": "code",
   "execution_count": null,
   "metadata": {},
   "outputs": [],
   "source": []
  },
  {
   "cell_type": "markdown",
   "metadata": {},
   "source": [
    "# Why we chose year 2018 for intial analysis?"
   ]
  },
  {
   "cell_type": "code",
   "execution_count": 79,
   "metadata": {},
   "outputs": [
    {
     "data": {
      "image/png": "[encoded data removed]",
      "text/plain": [
       "<Figure size 1000x600 with 1 Axes>"
      ]
     },
     "metadata": {},
     "output_type": "display_data"
    },
    {
     "name": "stdout",
     "output_type": "stream",
     "text": [
      "Percentage of data following 2017: 84.78%\n"
     ]
    }
   ],
   "source": [
    "import pandas as pd\n",
    "import matplotlib.pyplot as plt\n",
    "\n",
    "# Extract the year from 'upload_date'\n",
    "df_metadata_feather['year'] = df_metadata_feather['upload_date'].dt.year\n",
    "\n",
    "# Count the occurrences for each year\n",
    "year_counts = df_metadata_feather['year'].value_counts().sort_index()\n",
    "\n",
    "# Plot the distribution\n",
    "plt.figure(figsize=(10, 6))\n",
    "year_counts.plot(kind='bar', color='skyblue')\n",
    "plt.title('Distribution of Comments Data by Year')\n",
    "plt.xlabel('Year')\n",
    "plt.ylabel('Number of Entries')\n",
    "plt.xticks(rotation=45)\n",
    "plt.show()\n",
    "\n",
    "# Count number of entries for years above 2012\n",
    "year = 2017\n",
    "entries_above_year = len(df_metadata_feather[df_metadata_feather['year'] >= 2014])\n",
    "total_entries = len(df_metadata_feather)\n",
    "\n",
    "# Calculate the percentage\n",
    "percentage_above_year = (entries_above_year / total_entries) * 100\n",
    "\n",
    "print(f\"Percentage of data following {year}: {percentage_above_year:.2f}%\")"
   ]
  },
  {
   "cell_type": "code",
   "execution_count": null,
   "metadata": {},
   "outputs": [],
   "source": []
  },
  {
   "cell_type": "code",
   "execution_count": null,
   "metadata": {},
   "outputs": [],
   "source": []
  },
  {
   "cell_type": "markdown",
   "metadata": {},
   "source": [
    "# Some Preliminary Analyis on Random Sample (10 million lines)\n",
    "\n",
    "- Users post comments on 1.29 different videos on average, with maximum being 840.\n",
    "- Users post 1.3 comments under a single video on average, with maximum being ~2000."
   ]
  },
  {
   "cell_type": "code",
   "execution_count": 103,
   "metadata": {},
   "outputs": [
    {
     "name": "stdout",
     "output_type": "stream",
     "text": [
      "    author upload_date  videos_commented_daily\n",
      "0  2660153  2006-04-03                       1\n",
      "1  2660153  2006-07-19                       1\n",
      "2  2660153  2006-08-24                       1\n",
      "3  2660153  2006-10-24                       1\n",
      "4  2660153  2006-11-07                       2\n",
      "\n",
      "stats for 'videos_commented_daily':\n"
     ]
    },
    {
     "data": {
      "text/plain": [
       "count    3.597351e+06\n",
       "mean     1.290115e+00\n",
       "std      8.106885e-01\n",
       "min      1.000000e+00\n",
       "25%      1.000000e+00\n",
       "50%      1.000000e+00\n",
       "75%      1.000000e+00\n",
       "max      8.400000e+01\n",
       "Name: videos_commented_daily, dtype: float64"
      ]
     },
     "execution_count": 103,
     "metadata": {},
     "output_type": "execute_result"
    }
   ],
   "source": [
    "# Group by author and upload_date, then count the number of videos commented on daily by each author\n",
    "\n",
    "df_pandas = df_polars.to_pandas()\n",
    "daily_comments_df = df_pandas.groupby(['author', 'upload_date']).size().reset_index(name='videos_commented_daily')\n",
    "daily_comments_df = daily_comments_df.sort_values(by=['author', 'upload_date'])\n",
    "print(daily_comments_df.head())\n",
    "\n",
    "print(\"\\nstats for 'videos_commented_daily':\")\n",
    "daily_comments_df['videos_commented_daily'].describe()"
   ]
  },
  {
   "cell_type": "code",
   "execution_count": null,
   "metadata": {},
   "outputs": [],
   "source": []
  },
  {
   "cell_type": "code",
   "execution_count": 86,
   "metadata": {},
   "outputs": [
    {
     "data": {
      "text/plain": [
       "count    4.640995e+06\n",
       "mean     1.300615e+00\n",
       "std      2.535739e+00\n",
       "min      1.000000e+00\n",
       "25%      1.000000e+00\n",
       "50%      1.000000e+00\n",
       "75%      1.000000e+00\n",
       "max      2.017000e+03\n",
       "Name: comments, dtype: float64"
      ]
     },
     "execution_count": 86,
     "metadata": {},
     "output_type": "execute_result"
    }
   ],
   "source": [
    "# Find avg # of comments made by an author under a single video\n",
    "df_pandas[\"comments\"].describe()"
   ]
  },
  {
   "cell_type": "code",
   "execution_count": null,
   "metadata": {},
   "outputs": [],
   "source": []
  },
  {
   "cell_type": "code",
   "execution_count": 95,
   "metadata": {},
   "outputs": [
    {
     "data": {
      "image/png": "[encoded data removed]",
      "text/plain": [
       "<Figure size 640x480 with 1 Axes>"
      ]
     },
     "metadata": {},
     "output_type": "display_data"
    }
   ],
   "source": [
    "# plot histogram of # of comments made by an author under a single video\n",
    "\n",
    "df_pandas[\"comments\"].plot.hist(bins=10000, edgecolor='black')\n",
    "\n",
    "# Add titles and labels\n",
    "plt.title('Histogram of Comments by an Author in a Video')\n",
    "plt.xlabel('Comments per Video')\n",
    "plt.ylabel('Frequency')\n",
    "\n",
    "# Set the x-axis to logarithmic scale\n",
    "plt.xscale('log')\n",
    "plt.yscale('log')\n",
    "\n",
    "# Show the plot\n",
    "plt.show()\n"
   ]
  },
  {
   "cell_type": "code",
   "execution_count": null,
   "metadata": {},
   "outputs": [],
   "source": []
  },
  {
   "cell_type": "markdown",
   "metadata": {},
   "source": [
    "# Why We Filtered Authors with Total Comments > 100 "
   ]
  },
  {
   "cell_type": "code",
   "execution_count": 36,
   "metadata": {},
   "outputs": [
    {
     "name": "stdout",
     "output_type": "stream",
     "text": [
      "CPU times: user 44 s, sys: 15.3 s, total: 59.3 s\n",
      "Wall time: 1min 2s\n"
     ]
    },
    {
     "data": {
      "text/html": [
       "<div>\n",
       "<style scoped>\n",
       "    .dataframe tbody tr th:only-of-type {\n",
       "        vertical-align: middle;\n",
       "    }\n",
       "\n",
       "    .dataframe tbody tr th {\n",
       "        vertical-align: top;\n",
       "    }\n",
       "\n",
       "    .dataframe thead th {\n",
       "        text-align: right;\n",
       "    }\n",
       "</style>\n",
       "<table border=\"1\" class=\"dataframe\">\n",
       "  <thead>\n",
       "    <tr style=\"text-align: right;\">\n",
       "      <th></th>\n",
       "      <th>author</th>\n",
       "      <th>video_id</th>\n",
       "    </tr>\n",
       "  </thead>\n",
       "  <tbody>\n",
       "    <tr>\n",
       "      <th>0</th>\n",
       "      <td>1</td>\n",
       "      <td>5</td>\n",
       "    </tr>\n",
       "    <tr>\n",
       "      <th>1</th>\n",
       "      <td>2</td>\n",
       "      <td>3</td>\n",
       "    </tr>\n",
       "    <tr>\n",
       "      <th>2</th>\n",
       "      <td>3</td>\n",
       "      <td>2</td>\n",
       "    </tr>\n",
       "    <tr>\n",
       "      <th>3</th>\n",
       "      <td>4</td>\n",
       "      <td>6</td>\n",
       "    </tr>\n",
       "    <tr>\n",
       "      <th>4</th>\n",
       "      <td>5</td>\n",
       "      <td>3</td>\n",
       "    </tr>\n",
       "  </tbody>\n",
       "</table>\n",
       "</div>"
      ],
      "text/plain": [
       "   author  video_id\n",
       "0       1         5\n",
       "1       2         3\n",
       "2       3         2\n",
       "3       4         6\n",
       "4       5         3"
      ]
     },
     "execution_count": 36,
     "metadata": {},
     "output_type": "execute_result"
    }
   ],
   "source": [
    "%%time\n",
    "import matplotlib.pyplot as plt\n",
    "import seaborn as sns\n",
    "import pandas as pd\n",
    "import numpy as np\n",
    "\n",
    "num_comments_authors_orignial = pd.read_csv(\"./data/num_comments_authors.tsv.gz\", compression=\"infer\", sep=\"\\t\")\n",
    "num_comments_authors_orignial.head() # NOTE: \"video_id\" is actually total # of comments made by author!"
   ]
  },
  {
   "cell_type": "code",
   "execution_count": 90,
   "metadata": {},
   "outputs": [
    {
     "name": "stdout",
     "output_type": "stream",
     "text": [
      "mean: 19.174283032511074, std: 140.6533593518982, median: 2.0\n"
     ]
    }
   ],
   "source": [
    "# find median and mean total comments by an author in entire dataset\n",
    "mean_comms = num_comments_authors_orignial[\"video_id\"].mean()\n",
    "median_comms = num_comments_authors_orignial[\"video_id\"].median()\n",
    "std_comms = num_comments_authors_orignial[\"video_id\"].std()\n",
    "print(f\"mean: {mean_comms}, std: {std_comms}, median: {median_comms}\")"
   ]
  },
  {
   "cell_type": "code",
   "execution_count": 91,
   "metadata": {},
   "outputs": [
    {
     "name": "stdout",
     "output_type": "stream",
     "text": [
      "<2xStd coverage: 98.9%\n"
     ]
    }
   ],
   "source": [
    "# How much data (i-e authors) does 2xStd covers?\n",
    "filtered_df = num_comments_authors_orignial[(num_comments_authors_orignial[\"video_id\"]<2*std_comms)]\n",
    "coverage = (len(filtered_df)/len(num_comments_authors_orignial)*100)\n",
    "print(f\"<2xStd coverage: {coverage:.1f}%\")"
   ]
  },
  {
   "cell_type": "code",
   "execution_count": 93,
   "metadata": {},
   "outputs": [
    {
     "data": {
      "image/png": "[encoded data removed]",
      "text/plain": [
       "<Figure size 640x480 with 1 Axes>"
      ]
     },
     "metadata": {},
     "output_type": "display_data"
    },
    {
     "name": "stdout",
     "output_type": "stream",
     "text": [
      "CPU times: user 25.1 s, sys: 24.9 s, total: 50 s\n",
      "Wall time: 51.2 s\n"
     ]
    }
   ],
   "source": [
    "%%time\n",
    "# Plot distribution of total comments\n",
    "import matplotlib.pyplot as plt\n",
    "\n",
    "# to remove outliers\n",
    "filtered_df = num_comments_authors_orignial[(num_comments_authors_orignial[\"video_id\"]<2*std_comms)]\n",
    "\n",
    "# Create a histogram of the 'video_id' column\n",
    "filtered_df['video_id'].plot.hist(bins=10000, edgecolor='black')\n",
    "\n",
    "# Add titles and labels\n",
    "plt.title('Histogram of Total Comments by Author')\n",
    "plt.xlabel('Total Comments')\n",
    "plt.ylabel('Frequency')\n",
    "\n",
    "# Set the x-axis to logarithmic scale\n",
    "plt.xscale('log')\n",
    "\n",
    "# Show the plot\n",
    "plt.show()"
   ]
  },
  {
   "cell_type": "code",
   "execution_count": 94,
   "metadata": {},
   "outputs": [
    {
     "data": {
      "image/png": "[encoded data removed]",
      "text/plain": [
       "<Figure size 640x480 with 1 Axes>"
      ]
     },
     "metadata": {},
     "output_type": "display_data"
    },
    {
     "name": "stdout",
     "output_type": "stream",
     "text": [
      "CPU times: user 11 s, sys: 2.19 s, total: 13.2 s\n",
      "Wall time: 22.5 s\n"
     ]
    }
   ],
   "source": [
    "%%time\n",
    "# Plot distribution for active/prolific authors who comment a lot\n",
    "import matplotlib.pyplot as plt\n",
    "\n",
    "# to remove outliers\n",
    "filtered_df = num_comments_authors_orignial[(num_comments_authors_orignial[\"video_id\"]>mean_comms)]\n",
    "\n",
    "# Create a histogram of the 'video_id' column\n",
    "filtered_df['video_id'].plot.hist(bins=10000, edgecolor='black')\n",
    "\n",
    "# Add titles and labels\n",
    "plt.title('Histogram of Total Comments by Prolific Author')\n",
    "plt.xlabel('Total Comments')\n",
    "plt.ylabel('Frequency')\n",
    "\n",
    "# Set the x-axis to logarithmic scale\n",
    "plt.xscale('log')\n",
    "#plt.yscale('log')\n",
    "\n",
    "# Show the plot\n",
    "plt.show()"
   ]
  },
  {
   "cell_type": "code",
   "execution_count": null,
   "metadata": {},
   "outputs": [],
   "source": []
  },
  {
   "cell_type": "markdown",
   "metadata": {},
   "source": [
    "#### Why filter authors intially with some threshold 'k'?\n",
    "- Avg total comments by an author = 19\n",
    "- Bots usually comment in 100s per video or even more\n",
    "- Even if a bot targets only a single video, it typically has comments in 100s\n",
    "- So, initially filtering at mean + SD = ~100 reduces size of the dataset and makes it easier to process\n",
    "- Filtered data would contain: (1) prolific/active users that comment frequently (2) bots that spam comments\n",
    "- The real challenge is differentiating between the both.\n",
    "\n"
   ]
  },
  {
   "cell_type": "code",
   "execution_count": null,
   "metadata": {},
   "outputs": [],
   "source": []
  }
 ],
 "metadata": {
  "kernelspec": {
   "display_name": "Python 3 (ipykernel)",
   "language": "python",
   "name": "python3"
  },
  "language_info": {
   "codemirror_mode": {
    "name": "ipython",
    "version": 3
   },
   "file_extension": ".py",
   "mimetype": "text/x-python",
   "name": "python",
   "nbconvert_exporter": "python",
   "pygments_lexer": "ipython3",
   "version": "3.8.10"
  }
 },
 "nbformat": 4,
 "nbformat_minor": 4
}
