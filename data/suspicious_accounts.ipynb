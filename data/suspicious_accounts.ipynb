{
 "cells": [
  {
   "cell_type": "code",
   "execution_count": null,
   "metadata": {},
   "outputs": [],
   "source": [
    "import matplotlib.pyplot as plt\n",
    "import seaborn as sns\n",
    "import pandas as pd\n",
    "import numpy as np\n",
    "import polars as pl"
   ]
  },
  {
   "cell_type": "markdown",
   "metadata": {},
   "source": [
    "# Reading dataset (Parquet)\n",
    "\n",
    "I'm using the lazy loader of polars since my computer is not enough powerful."
   ]
  },
  {
   "cell_type": "code",
   "execution_count": 4,
   "metadata": {},
   "outputs": [
    {
     "data": {
      "text/html": [
       "<div><style>\n",
       ".dataframe > thead > tr,\n",
       ".dataframe > tbody > tr {\n",
       "  text-align: right;\n",
       "  white-space: pre-wrap;\n",
       "}\n",
       "</style>\n",
       "<small>shape: (5, 6)</small><table border=\"1\" class=\"dataframe\"><thead><tr><th>author</th><th>video_id</th><th>upload_date</th><th>comments</th><th>likes</th><th>replies</th></tr><tr><td>i64</td><td>str</td><td>date</td><td>u32</td><td>i64</td><td>i64</td></tr></thead><tbody><tr><td>16</td><td>&quot;s9sgU7fWlV4&quot;</td><td>2018-11-17</td><td>1</td><td>0</td><td>0</td></tr><tr><td>16</td><td>&quot;ujdUh7ZfkUY&quot;</td><td>2018-07-08</td><td>1</td><td>6</td><td>0</td></tr><tr><td>16</td><td>&quot;OaLFcwHzPaA&quot;</td><td>2018-12-27</td><td>1</td><td>1</td><td>0</td></tr><tr><td>16</td><td>&quot;aQoD6KfXZqg&quot;</td><td>2018-03-21</td><td>1</td><td>0</td><td>0</td></tr><tr><td>16</td><td>&quot;Croosu_XdF4&quot;</td><td>2018-07-14</td><td>1</td><td>0</td><td>0</td></tr></tbody></table></div>"
      ],
      "text/plain": [
       "shape: (5, 6)\n",
       "┌────────┬─────────────┬─────────────┬──────────┬───────┬─────────┐\n",
       "│ author ┆ video_id    ┆ upload_date ┆ comments ┆ likes ┆ replies │\n",
       "│ ---    ┆ ---         ┆ ---         ┆ ---      ┆ ---   ┆ ---     │\n",
       "│ i64    ┆ str         ┆ date        ┆ u32      ┆ i64   ┆ i64     │\n",
       "╞════════╪═════════════╪═════════════╪══════════╪═══════╪═════════╡\n",
       "│ 16     ┆ s9sgU7fWlV4 ┆ 2018-11-17  ┆ 1        ┆ 0     ┆ 0       │\n",
       "│ 16     ┆ ujdUh7ZfkUY ┆ 2018-07-08  ┆ 1        ┆ 6     ┆ 0       │\n",
       "│ 16     ┆ OaLFcwHzPaA ┆ 2018-12-27  ┆ 1        ┆ 1     ┆ 0       │\n",
       "│ 16     ┆ aQoD6KfXZqg ┆ 2018-03-21  ┆ 1        ┆ 0     ┆ 0       │\n",
       "│ 16     ┆ Croosu_XdF4 ┆ 2018-07-14  ┆ 1        ┆ 0     ┆ 0       │\n",
       "└────────┴─────────────┴─────────────┴──────────┴───────┴─────────┘"
      ]
     },
     "execution_count": 4,
     "metadata": {},
     "output_type": "execute_result"
    }
   ],
   "source": [
    "dataset_df = pl.scan_parquet(\"author_comments_per_video_2018.parquet\", \n",
    "                            low_memory=True)\n",
    "\n",
    "dataset_df.head().collect()"
   ]
  },
  {
   "cell_type": "code",
   "execution_count": 5,
   "metadata": {},
   "outputs": [
    {
     "name": "stdout",
     "output_type": "stream",
     "text": [
      "The number of rows in the Df is : 905447155\n"
     ]
    }
   ],
   "source": [
    "numb_rows = dataset_df.select(pl.len()).collect().item()\n",
    "print(f\"The number of rows in the Df is : {numb_rows}\")"
   ]
  },
  {
   "cell_type": "markdown",
   "metadata": {},
   "source": [
    "## Computing the first two statistical moments\n",
    "\n",
    "Since the dataset **author_comments_per_video_2018.parquet** is too large, it can only be read by chunk. So the mean and the variance are computed by hand."
   ]
  },
  {
   "cell_type": "code",
   "execution_count": 9,
   "metadata": {},
   "outputs": [
    {
     "name": "stdout",
     "output_type": "stream",
     "text": [
      "The mean number of comments per user and per video is : 1.325973376104981\n"
     ]
    }
   ],
   "source": [
    "# Setting the variables\n",
    "chunk_size = 100000000  # The chunk size can be changed to the computer performance\n",
    "mean = 0\n",
    "\n",
    "for start in range(0, numb_rows, chunk_size):\n",
    "    mean += dataset_df.slice(start, chunk_size).select(\"comments\").sum().collect()\n",
    "\n",
    "mean = mean/numb_rows\n",
    "mean = mean.item() # The variable mean is a DF so converting it into a float\n",
    "\n",
    "print(f'The mean number of comments per user and per video is : {mean}')"
   ]
  },
  {
   "cell_type": "code",
   "execution_count": 10,
   "metadata": {},
   "outputs": [
    {
     "name": "stdout",
     "output_type": "stream",
     "text": [
      "The standard deviation is : 3.674350891355733\n"
     ]
    }
   ],
   "source": [
    "# Variance is just like a counter variable at start\n",
    "variance = 0\n",
    "\n",
    "for start in range(0, numb_rows, chunk_size):\n",
    "    chunk = dataset_df.slice(start, chunk_size).select(\"comments\").collect()\n",
    "\n",
    "    variance += np.sum((np.array(chunk) - mean)**2)\n",
    "\n",
    "del chunk # To unload the memory\n",
    "\n",
    "variance = variance/(numb_rows - 1) # Estimator without bias\n",
    "\n",
    "std = np.sqrt(variance)\n",
    "\n",
    "print(f'The standard deviation is : {std}')"
   ]
  },
  {
   "cell_type": "markdown",
   "metadata": {},
   "source": [
    "## Getting the indexes of the suspicious accounts"
   ]
  },
  {
   "cell_type": "markdown",
   "metadata": {},
   "source": [
    "#### Defining the threshold for the filtering"
   ]
  },
  {
   "cell_type": "code",
   "execution_count": 12,
   "metadata": {},
   "outputs": [
    {
     "name": "stdout",
     "output_type": "stream",
     "text": [
      "The number of suspicious comments per video is set to : 8.674675158816447\n"
     ]
    }
   ],
   "source": [
    "threshold = mean + 2*std\n",
    "print(f'The number of suspicious comments per video is set to : {threshold}')"
   ]
  },
  {
   "cell_type": "code",
   "execution_count": 13,
   "metadata": {},
   "outputs": [],
   "source": [
    "# Initializing the list\n",
    "index_suspicious_accounts = []\n",
    "\n",
    "for start in range(0, numb_rows, chunk_size):\n",
    "    chunk = dataset_df.slice(start, chunk_size).select(\"comments\").collect()\n",
    "\n",
    "    chunk = chunk.to_pandas()\n",
    "\n",
    "    df_buffer = chunk[chunk[\"comments\"] > threshold]\n",
    "\n",
    "    if (df_buffer.min() < threshold)[0]:\n",
    "        print(\"There is a problem in the location of the suspicious accounts\")\n",
    "        continue\n",
    "    \n",
    "    index_suspicious_accounts.extend(df_buffer.index + start)\n",
    "\n",
    "# Unloading the memory\n",
    "del chunk\n",
    "del df_buffer"
   ]
  },
  {
   "cell_type": "code",
   "execution_count": 14,
   "metadata": {},
   "outputs": [
    {
     "name": "stdout",
     "output_type": "stream",
     "text": [
      "Quick sanity check by looking at the smallest index : 681\n"
     ]
    }
   ],
   "source": [
    "print(f\"Quick sanity check by looking at the smallest index : {min(index_suspicious_accounts)}\")"
   ]
  },
  {
   "cell_type": "code",
   "execution_count": 15,
   "metadata": {},
   "outputs": [
    {
     "name": "stdout",
     "output_type": "stream",
     "text": [
      "The number of suspicious account is 3891275 which is much lower than the number of accounts\n"
     ]
    }
   ],
   "source": [
    "numb_sus_accounts = len(index_suspicious_accounts)\n",
    "\n",
    "print(f\"The number of suspicious account is {numb_sus_accounts} which is much lower than the number of accounts\")"
   ]
  },
  {
   "cell_type": "code",
   "execution_count": 16,
   "metadata": {},
   "outputs": [
    {
     "name": "stdout",
     "output_type": "stream",
     "text": [
      "shape: (3_891_275, 6)\n",
      "┌───────────┬─────────────┬─────────────┬──────────┬───────┬─────────┐\n",
      "│ author    ┆ video_id    ┆ upload_date ┆ comments ┆ likes ┆ replies │\n",
      "│ ---       ┆ ---         ┆ ---         ┆ ---      ┆ ---   ┆ ---     │\n",
      "│ i64       ┆ str         ┆ date        ┆ u32      ┆ i64   ┆ i64     │\n",
      "╞═══════════╪═════════════╪═════════════╪══════════╪═══════╪═════════╡\n",
      "│ 299       ┆ 4NDYXVKx2Jw ┆ 2018-11-22  ┆ 23       ┆ 376   ┆ 39      │\n",
      "│ 933       ┆ 2SU6SWNxOYk ┆ 2018-02-26  ┆ 10       ┆ 8     ┆ 18      │\n",
      "│ 1047      ┆ Nu2yQ1zYDYU ┆ 2018-04-02  ┆ 10       ┆ 25    ┆ 0       │\n",
      "│ 1047      ┆ OHELU6I10wQ ┆ 2018-01-18  ┆ 10       ┆ 13    ┆ 1       │\n",
      "│ 1560      ┆ hlb3gGNBHFE ┆ 2018-03-04  ┆ 14       ┆ 17    ┆ 1       │\n",
      "│ …         ┆ …           ┆ …           ┆ …        ┆ …     ┆ …       │\n",
      "│ 576549884 ┆ KOUP8AGYdr8 ┆ 2018-07-10  ┆ 10       ┆ 11    ┆ 1       │\n",
      "│ 576549884 ┆ Nr3WBJPg0BE ┆ 2018-08-31  ┆ 10       ┆ 8     ┆ 0       │\n",
      "│ 576550604 ┆ R5E43VdWvyI ┆ 2018-09-04  ┆ 10       ┆ 0     ┆ 0       │\n",
      "│ 576551320 ┆ tyHAI-70DSg ┆ 2018-08-20  ┆ 11       ┆ 6     ┆ 2       │\n",
      "│ 576551408 ┆ JTpYCTOe5cc ┆ 2018-03-10  ┆ 10       ┆ 117   ┆ 12      │\n",
      "└───────────┴─────────────┴─────────────┴──────────┴───────┴─────────┘\n"
     ]
    }
   ],
   "source": [
    "chunk_size = 10000000  # The chunk size is divided by 10 compared as before\n",
    "\n",
    "# Initialize a list to get the rows indexes of suspicous accounts\n",
    "selected_rows = []\n",
    "\n",
    "start = 0\n",
    "while True:\n",
    "    chunk = dataset_df.slice(start, chunk_size).collect()\n",
    "    if chunk.is_empty():\n",
    "        break\n",
    "    # Compute the current indexes\n",
    "    chunk_indices = range(start, start + chunk_size)\n",
    "    # Find the row indices in the current chunk\n",
    "    chunk_row_indices = [i - start for i in index_suspicious_accounts if i in chunk_indices]\n",
    "    # Extract the rows of interest from the opened chunk\n",
    "    if chunk_row_indices:\n",
    "        selected_rows.append(chunk[chunk_row_indices])\n",
    "    start += chunk_size\n",
    "\n",
    "chunk = None # Unload the memory\n",
    "\n",
    "# Export the rows to a dataframe to be used\n",
    "if selected_rows:\n",
    "    selected_rows_df = pl.concat(selected_rows)\n",
    "else:\n",
    "    selected_rows_df = pl.DataFrame()\n",
    "\n",
    "print(selected_rows_df)"
   ]
  },
  {
   "cell_type": "code",
   "execution_count": 17,
   "metadata": {},
   "outputs": [
    {
     "name": "stdout",
     "output_type": "stream",
     "text": [
      "Sanity check to see the lowest number of comments made : 9.\n",
      "So it should be higher than the threshold : True\n"
     ]
    }
   ],
   "source": [
    "min_value = selected_rows_df[\"comments\"].min()\n",
    "\n",
    "print(f\"Sanity check to see the lowest number of comments made : {min_value}.\")\n",
    "print(f\"So it should be higher than the threshold : {min_value > threshold}\")"
   ]
  },
  {
   "cell_type": "code",
   "execution_count": 24,
   "metadata": {},
   "outputs": [
    {
     "data": {
      "text/html": [
       "<div><style>\n",
       ".dataframe > thead > tr,\n",
       ".dataframe > tbody > tr {\n",
       "  text-align: right;\n",
       "  white-space: pre-wrap;\n",
       "}\n",
       "</style>\n",
       "<small>shape: (10, 6)</small><table border=\"1\" class=\"dataframe\"><thead><tr><th>author</th><th>video_id</th><th>upload_date</th><th>comments</th><th>likes</th><th>replies</th></tr><tr><td>i64</td><td>str</td><td>date</td><td>u32</td><td>i64</td><td>i64</td></tr></thead><tbody><tr><td>219760968</td><td>&quot;1J76wN0TPI4&quot;</td><td>2018-05-30</td><td>23475</td><td>9055</td><td>571</td></tr><tr><td>333172471</td><td>&quot;zPJl2e38S4g&quot;</td><td>2018-03-31</td><td>18421</td><td>6000</td><td>69</td></tr><tr><td>314699484</td><td>&quot;xpVfcZ0ZcFM&quot;</td><td>2018-02-16</td><td>12530</td><td>627</td><td>0</td></tr><tr><td>311898076</td><td>&quot;z7tRr49qZfo&quot;</td><td>2018-03-14</td><td>10227</td><td>3081</td><td>0</td></tr><tr><td>298514026</td><td>&quot;XW6MpM0LTI0&quot;</td><td>2018-06-06</td><td>9890</td><td>3458</td><td>0</td></tr><tr><td>52730071</td><td>&quot;b03U6BYF9L0&quot;</td><td>2018-02-15</td><td>9095</td><td>1949</td><td>3837</td></tr><tr><td>177343493</td><td>&quot;6YNZlXfW6Ho&quot;</td><td>2018-04-26</td><td>8902</td><td>1520</td><td>29</td></tr><tr><td>432685379</td><td>&quot;ZHkZgCF4_G4&quot;</td><td>2018-12-07</td><td>8436</td><td>4349</td><td>0</td></tr><tr><td>309188934</td><td>&quot;st8dkGzJWtg&quot;</td><td>2018-06-11</td><td>7477</td><td>1991</td><td>0</td></tr><tr><td>270113088</td><td>&quot;WReyepxMs34&quot;</td><td>2018-10-13</td><td>7262</td><td>1037</td><td>419</td></tr></tbody></table></div>"
      ],
      "text/plain": [
       "shape: (10, 6)\n",
       "┌───────────┬─────────────┬─────────────┬──────────┬───────┬─────────┐\n",
       "│ author    ┆ video_id    ┆ upload_date ┆ comments ┆ likes ┆ replies │\n",
       "│ ---       ┆ ---         ┆ ---         ┆ ---      ┆ ---   ┆ ---     │\n",
       "│ i64       ┆ str         ┆ date        ┆ u32      ┆ i64   ┆ i64     │\n",
       "╞═══════════╪═════════════╪═════════════╪══════════╪═══════╪═════════╡\n",
       "│ 219760968 ┆ 1J76wN0TPI4 ┆ 2018-05-30  ┆ 23475    ┆ 9055  ┆ 571     │\n",
       "│ 333172471 ┆ zPJl2e38S4g ┆ 2018-03-31  ┆ 18421    ┆ 6000  ┆ 69      │\n",
       "│ 314699484 ┆ xpVfcZ0ZcFM ┆ 2018-02-16  ┆ 12530    ┆ 627   ┆ 0       │\n",
       "│ 311898076 ┆ z7tRr49qZfo ┆ 2018-03-14  ┆ 10227    ┆ 3081  ┆ 0       │\n",
       "│ 298514026 ┆ XW6MpM0LTI0 ┆ 2018-06-06  ┆ 9890     ┆ 3458  ┆ 0       │\n",
       "│ 52730071  ┆ b03U6BYF9L0 ┆ 2018-02-15  ┆ 9095     ┆ 1949  ┆ 3837    │\n",
       "│ 177343493 ┆ 6YNZlXfW6Ho ┆ 2018-04-26  ┆ 8902     ┆ 1520  ┆ 29      │\n",
       "│ 432685379 ┆ ZHkZgCF4_G4 ┆ 2018-12-07  ┆ 8436     ┆ 4349  ┆ 0       │\n",
       "│ 309188934 ┆ st8dkGzJWtg ┆ 2018-06-11  ┆ 7477     ┆ 1991  ┆ 0       │\n",
       "│ 270113088 ┆ WReyepxMs34 ┆ 2018-10-13  ┆ 7262     ┆ 1037  ┆ 419     │\n",
       "└───────────┴─────────────┴─────────────┴──────────┴───────┴─────────┘"
      ]
     },
     "execution_count": 24,
     "metadata": {},
     "output_type": "execute_result"
    }
   ],
   "source": [
    "selected_rows_df.sort(\"comments\", descending = True).head(10)"
   ]
  },
  {
   "cell_type": "code",
   "execution_count": 91,
   "metadata": {},
   "outputs": [],
   "source": [
    "selected_rows_df.write_parquet(\"suspicious_users_2018.parquet\")"
   ]
  },
  {
   "cell_type": "code",
   "execution_count": null,
   "metadata": {},
   "outputs": [],
   "source": []
  }
 ],
 "metadata": {
  "kernelspec": {
   "display_name": "adavenv",
   "language": "python",
   "name": "python3"
  },
  "language_info": {
   "codemirror_mode": {
    "name": "ipython",
    "version": 3
   },
   "file_extension": ".py",
   "mimetype": "text/x-python",
   "name": "python",
   "nbconvert_exporter": "python",
   "pygments_lexer": "ipython3",
   "version": "3.8.10"
  }
 },
 "nbformat": 4,
 "nbformat_minor": 2
}
